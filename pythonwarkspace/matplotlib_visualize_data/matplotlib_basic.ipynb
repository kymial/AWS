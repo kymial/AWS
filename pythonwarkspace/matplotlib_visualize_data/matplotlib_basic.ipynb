{
 "cells": [
  {
   "cell_type": "markdown",
   "metadata": {},
   "source": [
    "### 데이터 시각화 패키지 맷플롯리브\n",
    "matplotlib 패키지는 파이썬에서 데이터를 차트 혹은 플롯으로 시각화하는 패키지  \n",
    "- 선형 그래프 (line plot)  \n",
    "- 점 그래프 (scatter plot)  \n",
    "- 등고선 (contour plot)  \n",
    "- 표면도 (surface plot)  \n",
    "- 막대 그래프 (bar chart)  \n",
    "- 히스토그램 (histogram)  \n",
    "- 박스 그래프 (box plot)  \n"
   ]
  },
  {
   "cell_type": "markdown",
   "metadata": {},
   "source": [
    "### pyplot 하위 패키지\n",
    "간단한 시각한 자료를 만들때 사용되는 matplotlib 의 하위 패키지  \n",
    "matplotlib 패키지를 직접 사용하지 않고 단순히 pyplot 만으로 시각화를 할 수 있다."
   ]
  },
  {
   "cell_type": "markdown",
   "metadata": {},
   "source": [
    "```python\n",
    "import matplotlib as mpl\n",
    "import matplotlib.pyplot as plt\n",
    "```"
   ]
  },
  {
   "cell_type": "code",
   "execution_count": 1,
   "metadata": {},
   "outputs": [],
   "source": [
    "import matplotlib as mpl\n",
    "import matplotlib.pyplot as plt"
   ]
  },
  {
   "cell_type": "code",
   "execution_count": 2,
   "metadata": {},
   "outputs": [],
   "source": [
    "import pandas as pd\n",
    "import numpy as np"
   ]
  },
  {
   "cell_type": "code",
   "execution_count": 4,
   "metadata": {},
   "outputs": [],
   "source": [
    "# matplotlib 한글 표시 설정\n",
    "import matplotlib.font_manager as fm\n",
    "\n",
    "# matplotlib의 글꼴 관리자로 특정 글꼴 추가\n",
    "fe = fm.FontEntry(\n",
    "    fname=r'font/NanumGothic.ttf',\n",
    "    name='NanumGothic'\n",
    ")\n",
    "fm.fontManager.ttflist.insert(0, fe)\n",
    "\n",
    "# pyplot에 matplotlib의 글꼴 관리자에 등록된 글꼴 적용\n",
    "plt.rcParams.update({'font.family' : 'NanumGothic', 'font.size' : 14})\n",
    "\n",
    "# pyplot에 ' - ' 를 문자로 취급하도록 설정\n",
    "plt.rcParams['axes.unicode_minus'] = False"
   ]
  },
  {
   "cell_type": "code",
   "execution_count": null,
   "metadata": {},
   "outputs": [],
   "source": []
  }
 ],
 "metadata": {
  "kernelspec": {
   "display_name": "Python 3",
   "language": "python",
   "name": "python3"
  },
  "language_info": {
   "codemirror_mode": {
    "name": "ipython",
    "version": 3
   },
   "file_extension": ".py",
   "mimetype": "text/x-python",
   "name": "python",
   "nbconvert_exporter": "python",
   "pygments_lexer": "ipython3",
   "version": "3.12.2"
  }
 },
 "nbformat": 4,
 "nbformat_minor": 2
}
