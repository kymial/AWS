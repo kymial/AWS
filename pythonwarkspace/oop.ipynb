{
 "cells": [
  {
   "cell_type": "code",
   "execution_count": 1,
   "metadata": {},
   "outputs": [],
   "source": [
    "# 객체\n",
    "# 데이터와 데이터를 조작하는 행위의 집합\n"
   ]
  },
  {
   "cell_type": "code",
   "execution_count": 2,
   "metadata": {},
   "outputs": [],
   "source": [
    "class Rectangle() :\n",
    "    def __init__(self, width, height) :\n",
    "        self.width = width\n",
    "        self.height = height\n",
    "        \n",
    "    def getArea(self) :\n",
    "        return self.height * self.width"
   ]
  },
  {
   "cell_type": "code",
   "execution_count": 3,
   "metadata": {},
   "outputs": [
    {
     "data": {
      "text/plain": [
       "<__main__.Rectangle at 0x1b4303fb260>"
      ]
     },
     "execution_count": 3,
     "metadata": {},
     "output_type": "execute_result"
    }
   ],
   "source": [
    "Rectangle = Rectangle(10, 20)\n",
    "Rectangle"
   ]
  },
  {
   "cell_type": "code",
   "execution_count": 4,
   "metadata": {},
   "outputs": [
    {
     "data": {
      "text/plain": [
       "10"
      ]
     },
     "execution_count": 4,
     "metadata": {},
     "output_type": "execute_result"
    }
   ],
   "source": [
    "Rectangle.width"
   ]
  },
  {
   "cell_type": "code",
   "execution_count": 5,
   "metadata": {},
   "outputs": [
    {
     "data": {
      "text/plain": [
       "200"
      ]
     },
     "execution_count": 5,
     "metadata": {},
     "output_type": "execute_result"
    }
   ],
   "source": [
    "Rectangle.getArea()"
   ]
  },
  {
   "cell_type": "code",
   "execution_count": 6,
   "metadata": {},
   "outputs": [],
   "source": [
    "#  사각 기둥의 부피를 계산하기 위한 클래스를 만든다. 이 클래스는 다음과 같은 속성을 가진다.\n",
    "\n",
    "# - 밑면의 가로 길이 `a`, 밑면의 세로 길이 `b`, 높이 `h`\n",
    "# - 부피를 계산하는 메서드 `volume`\n",
    "# - 겉넓이를 계산하는 메서드 `surface`\n",
    "\n",
    "# 밑면의 가로길이 * 밑면의 세로길이 * 높이 = 부피\n",
    "# 2 * 밑면의 가로길이 * 밑 면의 세로길이 + 2 * 밑면의 가로길이 * 높이 +2 * 밑면의 세로길이 * 높이\n",
    "# => 2 * (밑면의 가로길이 * 밑 면의 세로길이 + 2 * 밑면의 가로길이 * 높이 +2 * 밑면의 세로길이 * 높이) = 겉 넓이"
   ]
  },
  {
   "cell_type": "code",
   "execution_count": 7,
   "metadata": {},
   "outputs": [],
   "source": [
    "class suf() :\n",
    "    \n",
    "    def __init__(self, a, b, h) :\n",
    "        self.a = a\n",
    "        self.b = b\n",
    "        self.h = h\n",
    "    \n",
    "    def volume(self) :\n",
    "        return self.a * self.b * self.h\n",
    "    \n",
    "    def surface(self) :\n",
    "        return 2 * (self.a * self.b +2 * self.a * self.h +2 *self.b *self.h)\n",
    "    \n",
    "    \n",
    "    "
   ]
  },
  {
   "cell_type": "code",
   "execution_count": 8,
   "metadata": {},
   "outputs": [],
   "source": [
    "suf = suf(4, 6, 8)"
   ]
  },
  {
   "cell_type": "code",
   "execution_count": 9,
   "metadata": {},
   "outputs": [
    {
     "data": {
      "text/plain": [
       "192"
      ]
     },
     "execution_count": 9,
     "metadata": {},
     "output_type": "execute_result"
    }
   ],
   "source": [
    "suf.volume()"
   ]
  },
  {
   "cell_type": "code",
   "execution_count": 10,
   "metadata": {},
   "outputs": [
    {
     "data": {
      "text/plain": [
       "368"
      ]
     },
     "execution_count": 10,
     "metadata": {},
     "output_type": "execute_result"
    }
   ],
   "source": [
    "suf.surface()"
   ]
  },
  {
   "cell_type": "code",
   "execution_count": 11,
   "metadata": {},
   "outputs": [],
   "source": [
    "class Hexahedron():\n",
    "\n",
    "    def __init__(self, a, b, h):\n",
    "        self.a = a\n",
    "        self.b = b\n",
    "        self.h = h\n",
    "    \n",
    "    def getVolume(self):\n",
    "        return self.a * self.b * self.h\n",
    "\n",
    "    def getSurface(self):\n",
    "        a = self.a * self.b\n",
    "        b = self.a * self.h\n",
    "        c = self.b * self.h\n",
    "        return 2 * (a + b + c)"
   ]
  },
  {
   "cell_type": "code",
   "execution_count": 12,
   "metadata": {},
   "outputs": [],
   "source": [
    "hexahedron = Hexahedron(4, 6, 8)"
   ]
  },
  {
   "cell_type": "code",
   "execution_count": 13,
   "metadata": {},
   "outputs": [
    {
     "data": {
      "text/plain": [
       "192"
      ]
     },
     "execution_count": 13,
     "metadata": {},
     "output_type": "execute_result"
    }
   ],
   "source": [
    "hexahedron.getVolume()"
   ]
  },
  {
   "cell_type": "code",
   "execution_count": 14,
   "metadata": {},
   "outputs": [
    {
     "data": {
      "text/plain": [
       "208"
      ]
     },
     "execution_count": 14,
     "metadata": {},
     "output_type": "execute_result"
    }
   ],
   "source": [
    "hexahedron.getSurface()"
   ]
  },
  {
   "cell_type": "code",
   "execution_count": 2,
   "metadata": {},
   "outputs": [],
   "source": [
    "class Character() :\n",
    "    \n",
    "    def __init__(self) :\n",
    "        self.life = 1000\n",
    "        \n",
    "    def attacked(self) :\n",
    "        self.life -= 10\n",
    "        print(f'공격받음!!! life = {self.life}')"
   ]
  },
  {
   "cell_type": "code",
   "execution_count": 16,
   "metadata": {},
   "outputs": [
    {
     "data": {
      "text/plain": [
       "1000"
      ]
     },
     "execution_count": 16,
     "metadata": {},
     "output_type": "execute_result"
    }
   ],
   "source": [
    "Character = Character()\n",
    "Character.life"
   ]
  },
  {
   "cell_type": "code",
   "execution_count": 17,
   "metadata": {},
   "outputs": [
    {
     "name": "stdout",
     "output_type": "stream",
     "text": [
      "공격받음!!! life = 990\n"
     ]
    }
   ],
   "source": [
    "Character.attacked()"
   ]
  },
  {
   "cell_type": "code",
   "execution_count": 18,
   "metadata": {},
   "outputs": [
    {
     "name": "stdout",
     "output_type": "stream",
     "text": [
      "공격받음!!! life = 980\n"
     ]
    }
   ],
   "source": [
    "Character.attacked()"
   ]
  },
  {
   "cell_type": "code",
   "execution_count": 19,
   "metadata": {},
   "outputs": [
    {
     "data": {
      "text/plain": [
       "980"
      ]
     },
     "execution_count": 19,
     "metadata": {},
     "output_type": "execute_result"
    }
   ],
   "source": [
    "Character.life"
   ]
  },
  {
   "cell_type": "code",
   "execution_count": 20,
   "metadata": {},
   "outputs": [],
   "source": [
    "# 클래스 상속\n",
    "# 이미 만들어져 있는 클래스를 재사용하기 위한 방법론으로 코드 재사용으로 코드의 중복으로 제거할 수 있고 유지보수를 향상 시킬 수 있다.\n",
    "# class 클래스명(상속할 클래스명) :\n",
    "#    def__init__(self, arg1, ...) :\n",
    "#        super(자식클래스명, self).__init__()\n",
    "#       인스턴스 생성시 실행할 코드..."
   ]
  },
  {
   "cell_type": "code",
   "execution_count": 3,
   "metadata": {},
   "outputs": [],
   "source": [
    "class Warrior(Character) :\n",
    "    \n",
    "    def __init__(self) :\n",
    "        super(Warrior, self).__init__()\n",
    "        self.strength = 15\n",
    "        self.intelligence =5"
   ]
  },
  {
   "cell_type": "code",
   "execution_count": 4,
   "metadata": {},
   "outputs": [],
   "source": [
    "class Wizard(Character) :\n",
    "    \n",
    "    def __init__(self):\n",
    "        super(Wizard, self).__init__()\n",
    "        self.strength = 5\n",
    "        self.intelligence = 15"
   ]
  },
  {
   "cell_type": "code",
   "execution_count": null,
   "metadata": {},
   "outputs": [],
   "source": [
    "a = Warrior()\n",
    "b = Wizard()"
   ]
  },
  {
   "cell_type": "code",
   "execution_count": null,
   "metadata": {},
   "outputs": [],
   "source": [
    "a.life, b.life"
   ]
  },
  {
   "cell_type": "code",
   "execution_count": null,
   "metadata": {},
   "outputs": [],
   "source": [
    "a.strength, b.strength"
   ]
  },
  {
   "cell_type": "code",
   "execution_count": null,
   "metadata": {},
   "outputs": [],
   "source": [
    "a.intelligence, b.intelligence"
   ]
  },
  {
   "cell_type": "code",
   "execution_count": null,
   "metadata": {},
   "outputs": [],
   "source": [
    "a.attacked()"
   ]
  },
  {
   "cell_type": "code",
   "execution_count": null,
   "metadata": {},
   "outputs": [],
   "source": [
    "b.attacked()"
   ]
  },
  {
   "cell_type": "code",
   "execution_count": null,
   "metadata": {},
   "outputs": [],
   "source": [
    "# 오버라이딩\n",
    "# 클래스 상속 관계에서 조상 클래스에 있는 메서드를 자손 클래스에서 재정의하여 사용하는 방법론"
   ]
  },
  {
   "cell_type": "code",
   "execution_count": 5,
   "metadata": {},
   "outputs": [],
   "source": [
    "class Warrior(Character) :\n",
    "    \n",
    "    def __init__(self) :\n",
    "        super(Warrior, self).__init__()\n",
    "        self.strength = 15\n",
    "        self.intelligence =5\n",
    "        \n",
    "    def attacked(self) :\n",
    "        self.life -= 5\n",
    "        print(f'전사가 공격당함!! life = {self.life}')"
   ]
  },
  {
   "cell_type": "code",
   "execution_count": 8,
   "metadata": {},
   "outputs": [],
   "source": [
    "class Wizard(Character) :\n",
    "    \n",
    "    def __init__(self):\n",
    "        super(Wizard, self).__init__()\n",
    "        self.strength = 5\n",
    "        self.intelligence = 15\n",
    "        \n",
    "    def attacked(self) :\n",
    "        self.life -= 15\n",
    "        print(f'마법사가 공격당함!! life = {self.life}')\n",
    "        \n",
    "    def attacked(self, target) :\n",
    "        self.life -= 20\n",
    "        print(f'마법사가 {target}에게 공격다함!! life = {self.life}')"
   ]
  },
  {
   "cell_type": "code",
   "execution_count": null,
   "metadata": {},
   "outputs": [],
   "source": [
    "Character = Character()\n",
    "Warrior = Warrior()\n",
    "Wizard = Wizard()"
   ]
  },
  {
   "cell_type": "code",
   "execution_count": null,
   "metadata": {},
   "outputs": [],
   "source": [
    "Character.attacked()\n",
    "Warrior.attacked()\n",
    "Wizard.attacked()"
   ]
  },
  {
   "cell_type": "code",
   "execution_count": null,
   "metadata": {},
   "outputs": [],
   "source": [
    "# 특수 메서드\n",
    "# 파이썬 클래스에서 제공하는 __메서드명__ 형태의 메서드\n",
    "# __repr__(self) : 인스턴스 자체 출력시 표현할 방법을 작성\n",
    "# __str__(self) : 인스턴스를 문자열로 형변환할 때 표현할 방법을 작성\n",
    "# __getitem__(self, key) : 인스턴스를 딕셔너리와 같이 'key'로 속성 값을 가져올 수 있도록 하는 방법을 작성"
   ]
  },
  {
   "cell_type": "code",
   "execution_count": 16,
   "metadata": {},
   "outputs": [],
   "source": [
    "class Complex () :\n",
    "    def __init__(self, r, i) :\n",
    "        self.r = r\n",
    "        self.i = i\n",
    "        \n",
    "    def __repr__(self) :\n",
    "        return f'Complex - [r : {self.r}, i : {self.i}]'\n",
    "    \n",
    "    def __str__(self)  :\n",
    "        return f' r : {self.r}, i : {self.i}'\n",
    "    \n",
    "    def __getitem__(self, key) :\n",
    "        if key == 'i' :\n",
    "            return self.i\n",
    "        if key == 'r' :\n",
    "            return self.r"
   ]
  },
  {
   "cell_type": "code",
   "execution_count": 17,
   "metadata": {},
   "outputs": [
    {
     "data": {
      "text/plain": [
       "Complex - [r : 1, i : 2]"
      ]
     },
     "execution_count": 17,
     "metadata": {},
     "output_type": "execute_result"
    }
   ],
   "source": [
    "complex = Complex(1, 2)\n",
    "complex"
   ]
  },
  {
   "cell_type": "code",
   "execution_count": 18,
   "metadata": {},
   "outputs": [
    {
     "data": {
      "text/plain": [
       "' r : 1, i : 2'"
      ]
     },
     "execution_count": 18,
     "metadata": {},
     "output_type": "execute_result"
    }
   ],
   "source": [
    "str(complex)"
   ]
  },
  {
   "cell_type": "code",
   "execution_count": 20,
   "metadata": {},
   "outputs": [
    {
     "data": {
      "text/plain": [
       "2"
      ]
     },
     "execution_count": 20,
     "metadata": {},
     "output_type": "execute_result"
    }
   ],
   "source": [
    "complex['i']"
   ]
  },
  {
   "cell_type": "code",
   "execution_count": null,
   "metadata": {},
   "outputs": [],
   "source": [
    "# 다음과 같이 자동차를 나타내는 `Car` 클래스를 구현한다.\n",
    "\n",
    "# - 이 클래스는 최고 속도를 의미하는 `max_speed`라는 속성과 현재 속도를 나타내는 `speed`라는 속성을 가진다.\n",
    "# - 객체 생성시 `max_speed` 속성은 160이 되고 `speed` 속성은 0이 된다.\n",
    "# - `speed_up`, `speed_down`이라는 메서드를 가진다. `speed_up`을 호출하면 `speed` 속성이 20씩 증가하고 `speed_down`을 호출하면 `speed` 속성이 20씩 감소한다.\n",
    "# - 스피드 속성 `speed`의 값은 `max_speed` 속성 값, 즉 160을 넘을 수 없다. 또 0 미만으로 감소할 수도 없다.\n",
    "# - 메서드는 호출시 속도 정보를 출력하고 명시적인 반환값을 가지지 않는다.\n",
    "# - 위 기능이 모두 정상적으로 구현되었음을 보이는 코드를 추가한다."
   ]
  },
  {
   "cell_type": "code",
   "execution_count": 1,
   "metadata": {},
   "outputs": [],
   "source": [
    "class Car_A () :\n",
    "    def __init__(self) :\n",
    "        self.max_speed = 160\n",
    "        self.speed = 0\n",
    "    \n",
    "    def getSpeedUp(self) :\n",
    "        if self.speed < self.max_speed :\n",
    "            self.speed += 20\n",
    "            print(f'최고속도 : {self.max_speed} 현재속도 : {self.speed}')\n",
    "        else :\n",
    "             print(f'최고속도 : {self.max_speed} 현재속도 : {self.speed}')\n",
    "        \n",
    "    def getSpeedDown(self) :\n",
    "        if self.speed > 0 :\n",
    "            self.speed -= 20\n",
    "            print(f'최고속도 : {self.max_speed} 현재속도 : {self.speed}')\n",
    "        else :\n",
    "            print(f'최고속도 : {self.max_speed} 현재속도 : {self.speed}')\n",
    "        \n",
    "        "
   ]
  },
  {
   "cell_type": "code",
   "execution_count": 62,
   "metadata": {},
   "outputs": [],
   "source": [
    "Car_A = Car_A()"
   ]
  },
  {
   "cell_type": "code",
   "execution_count": 71,
   "metadata": {},
   "outputs": [
    {
     "name": "stdout",
     "output_type": "stream",
     "text": [
      "최고속도 : 160 현재속도 : 160\n"
     ]
    }
   ],
   "source": [
    "Car_A.getSpeedUp()"
   ]
  },
  {
   "cell_type": "code",
   "execution_count": 80,
   "metadata": {},
   "outputs": [
    {
     "name": "stdout",
     "output_type": "stream",
     "text": [
      "최고속도 : 160 현재속도 : 0\n"
     ]
    }
   ],
   "source": [
    "Car_A.getSpeedDown()"
   ]
  },
  {
   "cell_type": "code",
   "execution_count": 2,
   "metadata": {},
   "outputs": [],
   "source": [
    "class Car() :\n",
    "    def __init__(self) :\n",
    "        self.speed = 0\n",
    "        self.max_speed = 160\n",
    "        \n",
    "    def speed_up(self) :\n",
    "        if self.speed >= self.max_speed :\n",
    "            print('현재 속도는 최고속도를 초과 할 수 없습니다.')\n",
    "            return\n",
    "        self.speed += 20\n",
    "        print(f'현재 속도 : {self.speed}')\n",
    "        \n",
    "    def speed_down(self) :\n",
    "        if self.speed <= 0 :\n",
    "            print('현재 속도는 0 미만일 수 없습니다.')\n",
    "            return\n",
    "        self.speed -= 20\n",
    "        print(f'현재 속도 : {self.speed}')"
   ]
  },
  {
   "cell_type": "code",
   "execution_count": 82,
   "metadata": {},
   "outputs": [],
   "source": [
    "car = car()"
   ]
  },
  {
   "cell_type": "code",
   "execution_count": 84,
   "metadata": {},
   "outputs": [
    {
     "data": {
      "text/plain": [
       "0"
      ]
     },
     "execution_count": 84,
     "metadata": {},
     "output_type": "execute_result"
    }
   ],
   "source": [
    "car.speed"
   ]
  },
  {
   "cell_type": "code",
   "execution_count": 85,
   "metadata": {},
   "outputs": [
    {
     "data": {
      "text/plain": [
       "160"
      ]
     },
     "execution_count": 85,
     "metadata": {},
     "output_type": "execute_result"
    }
   ],
   "source": [
    "car.max_speed"
   ]
  },
  {
   "cell_type": "code",
   "execution_count": 89,
   "metadata": {},
   "outputs": [
    {
     "name": "stdout",
     "output_type": "stream",
     "text": [
      "현재 속도 : 0\n"
     ]
    }
   ],
   "source": [
    "car.speed_down()"
   ]
  },
  {
   "cell_type": "code",
   "execution_count": 98,
   "metadata": {},
   "outputs": [
    {
     "name": "stdout",
     "output_type": "stream",
     "text": [
      "현재 속도는 최고속도를 초과 할 수 없습니다.\n"
     ]
    }
   ],
   "source": [
    "car.speed_up()"
   ]
  },
  {
   "cell_type": "code",
   "execution_count": null,
   "metadata": {},
   "outputs": [],
   "source": [
    "#  `Car` 클래스를 기반으로 `SportCar'이라는  자식 클래스를 구현한다.\n",
    "\n",
    "# - `SportCar` 클래스는 `max_speed` 속성이 200 이고 `speed_up`, `speed_down` 호출시 속도가 45씩 증가 혹은 감소한다.\n",
    "# - 스피드 속성 `speed`의 값은 `max_speed` 속성 값을 넘을 수 없다. 또 0 미만으로 감소할 수도 없다.\n",
    "# - 메서드는 호출시 속도 정보를 출력하고 명시적인 반환값을 가지지 않는다.\n",
    "# - 위 기능이 모두 정상적으로 구현되었음을 보이는 코드를 추가한다."
   ]
  },
  {
   "cell_type": "code",
   "execution_count": 4,
   "metadata": {},
   "outputs": [],
   "source": [
    "class SportCar(Car) :\n",
    "    \n",
    "    def __init__(self) :\n",
    "        super().__init__()\n",
    "        self.max_speed = 200\n",
    "        \n",
    "    def speed_up(self) :\n",
    "        if self.speed >= self.max_speed :\n",
    "            print('현재 속도는 최고속도를 초과 할 수 없습니다.')\n",
    "            return\n",
    "        self.speed = self.max_speed if self.speed + 45 > self.max_speed else self.speed + 45\n",
    "        print(f'현재 속도 : {self.speed}')\n",
    "        \n",
    "    def speed_down(self) :\n",
    "        if self.speed <= 0 :\n",
    "            print('현재 속도는 0 미만일 수 없습니다.')\n",
    "            return\n",
    "        self.speed = 0 if self.speed - 45 < 0 else self.speed - 45\n",
    "        print(f'현재 속도 : {self.speed}')\n",
    "        \n",
    "    "
   ]
  },
  {
   "cell_type": "code",
   "execution_count": 5,
   "metadata": {},
   "outputs": [],
   "source": [
    "SportCar = SportCar()"
   ]
  },
  {
   "cell_type": "code",
   "execution_count": 7,
   "metadata": {},
   "outputs": [
    {
     "data": {
      "text/plain": [
       "0"
      ]
     },
     "execution_count": 7,
     "metadata": {},
     "output_type": "execute_result"
    }
   ],
   "source": [
    "SportCar.speed"
   ]
  },
  {
   "cell_type": "code",
   "execution_count": 6,
   "metadata": {},
   "outputs": [
    {
     "data": {
      "text/plain": [
       "200"
      ]
     },
     "execution_count": 6,
     "metadata": {},
     "output_type": "execute_result"
    }
   ],
   "source": [
    "SportCar.max_speed"
   ]
  },
  {
   "cell_type": "code",
   "execution_count": 22,
   "metadata": {},
   "outputs": [
    {
     "name": "stdout",
     "output_type": "stream",
     "text": [
      "현재 속도는 0 미만일 수 없습니다.\n"
     ]
    }
   ],
   "source": [
    "SportCar.speed_down()"
   ]
  },
  {
   "cell_type": "code",
   "execution_count": 16,
   "metadata": {},
   "outputs": [
    {
     "name": "stdout",
     "output_type": "stream",
     "text": [
      "현재 속도는 최고속도를 초과 할 수 없습니다.\n"
     ]
    }
   ],
   "source": [
    "SportCar.speed_up()"
   ]
  },
  {
   "cell_type": "code",
   "execution_count": 1,
   "metadata": {},
   "outputs": [],
   "source": [
    "class Car_B() :\n",
    "    def __init__(self) :\n",
    "        self.speed = 0\n",
    "        self.max_speed = 160\n",
    "        self.gap_speed = 20\n",
    "        \n",
    "    def speed_up(self) :\n",
    "        if self.speed >= self.max_speed :\n",
    "            print('현재 속도는 최고속도를 초과 할 수 없습니다.')\n",
    "            return\n",
    "        self.speed = self.max_speed if self.speed + 45 > self.max_speed else self.speed + self.gap_speed\n",
    "        print(f'현재 속도 : {self.speed}')\n",
    "        \n",
    "    def speed_down(self) :\n",
    "        if self.speed <= 0 :\n",
    "            print('현재 속도는 0 미만일 수 없습니다.')\n",
    "            return\n",
    "        self.speed = 0 if self.speed - 45 < 0 else self.speed - self.gap_speed\n",
    "        print(f'현재 속도 : {self.speed}')\n",
    "        \n",
    "    "
   ]
  },
  {
   "cell_type": "code",
   "execution_count": 29,
   "metadata": {},
   "outputs": [],
   "source": [
    "Car_B = Car_B()"
   ]
  },
  {
   "cell_type": "code",
   "execution_count": 30,
   "metadata": {},
   "outputs": [
    {
     "data": {
      "text/plain": [
       "0"
      ]
     },
     "execution_count": 30,
     "metadata": {},
     "output_type": "execute_result"
    }
   ],
   "source": [
    "Car_B.speed"
   ]
  },
  {
   "cell_type": "code",
   "execution_count": 31,
   "metadata": {},
   "outputs": [
    {
     "data": {
      "text/plain": [
       "160"
      ]
     },
     "execution_count": 31,
     "metadata": {},
     "output_type": "execute_result"
    }
   ],
   "source": [
    "Car_B.max_speed"
   ]
  },
  {
   "cell_type": "code",
   "execution_count": 41,
   "metadata": {},
   "outputs": [
    {
     "name": "stdout",
     "output_type": "stream",
     "text": [
      "현재 속도는 최고속도를 초과 할 수 없습니다.\n"
     ]
    }
   ],
   "source": [
    "Car_b.speed_up()"
   ]
  },
  {
   "cell_type": "code",
   "execution_count": 49,
   "metadata": {},
   "outputs": [
    {
     "name": "stdout",
     "output_type": "stream",
     "text": [
      "현재 속도는 0 미만일 수 없습니다.\n"
     ]
    }
   ],
   "source": [
    "Car_b.speed_down()"
   ]
  },
  {
   "cell_type": "code",
   "execution_count": 2,
   "metadata": {},
   "outputs": [],
   "source": [
    "class SportCar_B(Car_B) : \n",
    "    def __init__(self):\n",
    "        super().__init__()\n",
    "        self.max_speed = 200\n",
    "        self.gap_speed = 45"
   ]
  },
  {
   "cell_type": "code",
   "execution_count": 3,
   "metadata": {},
   "outputs": [],
   "source": [
    "SportCar_B = SportCar_B()"
   ]
  },
  {
   "cell_type": "code",
   "execution_count": 4,
   "metadata": {},
   "outputs": [
    {
     "data": {
      "text/plain": [
       "0"
      ]
     },
     "execution_count": 4,
     "metadata": {},
     "output_type": "execute_result"
    }
   ],
   "source": [
    "SportCar_B.speed"
   ]
  },
  {
   "cell_type": "code",
   "execution_count": 5,
   "metadata": {},
   "outputs": [
    {
     "data": {
      "text/plain": [
       "200"
      ]
     },
     "execution_count": 5,
     "metadata": {},
     "output_type": "execute_result"
    }
   ],
   "source": [
    "SportCar_B.max_speed"
   ]
  },
  {
   "cell_type": "code",
   "execution_count": 11,
   "metadata": {},
   "outputs": [
    {
     "name": "stdout",
     "output_type": "stream",
     "text": [
      "현재 속도는 최고속도를 초과 할 수 없습니다.\n"
     ]
    }
   ],
   "source": [
    "SportCar_B.speed_up()"
   ]
  },
  {
   "cell_type": "code",
   "execution_count": 17,
   "metadata": {},
   "outputs": [
    {
     "name": "stdout",
     "output_type": "stream",
     "text": [
      "현재 속도는 0 미만일 수 없습니다.\n"
     ]
    }
   ],
   "source": [
    "SportCar_B.speed_down()"
   ]
  }
 ],
 "metadata": {
  "kernelspec": {
   "display_name": "Python 3",
   "language": "python",
   "name": "python3"
  },
  "language_info": {
   "codemirror_mode": {
    "name": "ipython",
    "version": 3
   },
   "file_extension": ".py",
   "mimetype": "text/x-python",
   "name": "python",
   "nbconvert_exporter": "python",
   "pygments_lexer": "ipython3",
   "version": "3.12.2"
  }
 },
 "nbformat": 4,
 "nbformat_minor": 2
}
