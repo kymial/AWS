{
 "cells": [
  {
   "cell_type": "markdown",
   "metadata": {},
   "source": [
    "### 판다스 패키지\n",
    "데이터를 시계열이나 표로 표현하기 위한 패키지  \n",
    "시계열을 표현하는 `Series` 클래스와 표로 표현하는 `DataFrame` 클래스 존재함  \n",
    "  \n",
    "판다스 패키지를 사용하기 위해서는 패키지를 설치해야한다.  \n",
    "```bash\n",
    "pip install pandas\n",
    "```\n",
    "  \n",
    "패키지를 임포트할 때는\n",
    "```python\n",
    "import pandas\n",
    "import pandas as pd\n",
    "```  \n",
    "  \n",
    "pandas 3.0 이상 버전부터는 Pyarrow 패키지가 필수 의존 패키지로 지정하지 않으면  \n",
    "```bash\n",
    "pip install pyarrow\n",
    "```  \n",
    "로 Pyarrow 설치 권장\n",
    "\n"
   ]
  },
  {
   "cell_type": "code",
   "execution_count": 3,
   "metadata": {},
   "outputs": [],
   "source": [
    "import pandas as pd"
   ]
  },
  {
   "cell_type": "markdown",
   "metadata": {},
   "source": [
    "### 시리즈 클래스\n",
    "1차원의 시계열 데이터를 표현하고자 할 때 사용하는 클래스로 인덱스 인덱스와 같이 한쌍으로 나열되있는 형태  \n",
    "시리즈를 생성하는 방법 : pandas 패키지의 `Series` 클래스의 생성자로 값과 인덱스에 대한 배열 혹은 리스트를 전달하면 생성할 수 있음"
   ]
  },
  {
   "cell_type": "code",
   "execution_count": 2,
   "metadata": {},
   "outputs": [
    {
     "data": {
      "text/plain": [
       "홍길동     85\n",
       "김철수     70\n",
       "이영희    100\n",
       "최민수     90\n",
       "박지성     55\n",
       "dtype: int64"
      ]
     },
     "execution_count": 2,
     "metadata": {},
     "output_type": "execute_result"
    }
   ],
   "source": [
    "# index를 지정하지 않으면 0부터 시작하는 정수의 인덱스 값이 자동으로 생성됨\n",
    "scores = pd.Series([85, 70, 100, 90, 55], index= ['홍길동', '김철수', '이영희', '최민수', '박지성'])\n",
    "scores"
   ]
  },
  {
   "cell_type": "code",
   "execution_count": null,
   "metadata": {},
   "outputs": [],
   "source": [
    "# 인덱스 배열의 요소는 중복이 되어도 됨\n",
    "scores = pd.Series([85, 70, 100, 90, 55], index=['홍길동', '김철수', '이영희', '최민수', '박지성'])\n",
    "scores"
   ]
  },
  {
   "cell_type": "code",
   "execution_count": null,
   "metadata": {},
   "outputs": [],
   "source": [
    "# index를 지정하지 않으면 0부터 시작하는 정수의 인덱스 값이 자동으로 생성됨\n",
    "scores = pd.Series([85, 70, 100, 90, 55])\n",
    "scores"
   ]
  },
  {
   "cell_type": "markdown",
   "metadata": {},
   "source": [
    "Series 객체의 index와 values 들을 보고자 한다면 `index` 속성과 `values`속성으로 확인 할 수 있음"
   ]
  },
  {
   "cell_type": "code",
   "execution_count": 4,
   "metadata": {},
   "outputs": [
    {
     "data": {
      "text/plain": [
       "Index(['홍길동', '김철수', '이영희', '최민수', '박지성'], dtype='object')"
      ]
     },
     "execution_count": 4,
     "metadata": {},
     "output_type": "execute_result"
    }
   ],
   "source": [
    "scores.index"
   ]
  },
  {
   "cell_type": "code",
   "execution_count": 5,
   "metadata": {},
   "outputs": [
    {
     "data": {
      "text/plain": [
       "array([ 85,  70, 100,  90,  55], dtype=int64)"
      ]
     },
     "execution_count": 5,
     "metadata": {},
     "output_type": "execute_result"
    }
   ],
   "source": [
    "scores.values"
   ]
  },
  {
   "cell_type": "markdown",
   "metadata": {},
   "source": [
    "`name` 속성으로 value에 대한 이름을 부여할 수 있음\n",
    "`index.name` 속성으로 index에 대한 이름을 부여할 수 있음\n"
   ]
  },
  {
   "cell_type": "code",
   "execution_count": 4,
   "metadata": {},
   "outputs": [
    {
     "data": {
      "text/plain": [
       "이름\n",
       "홍길동     85\n",
       "김철수     70\n",
       "이영희    100\n",
       "최민수     90\n",
       "박지성     55\n",
       "Name: 점수, dtype: int64"
      ]
     },
     "execution_count": 4,
     "metadata": {},
     "output_type": "execute_result"
    }
   ],
   "source": [
    "scores.name = '점수'\n",
    "scores.index.name = '이름'\n",
    "scores"
   ]
  },
  {
   "cell_type": "code",
   "execution_count": 4,
   "metadata": {},
   "outputs": [
    {
     "data": {
      "text/plain": [
       "홍길동     85\n",
       "김철수     70\n",
       "이영희    100\n",
       "최민수     90\n",
       "홍길동     55\n",
       "dtype: int64"
      ]
     },
     "execution_count": 4,
     "metadata": {},
     "output_type": "execute_result"
    }
   ],
   "source": [
    "#\n",
    "scores = pd.Series([85, 70, 100, 90, 55], index= ['홍길동', '김철수', '이영희', '최민수', '홍길동'])\n",
    "scores"
   ]
  },
  {
   "cell_type": "markdown",
   "metadata": {},
   "source": [
    "### 시리즈 연산\n",
    "시리즈도 numpy 배열과 같이 백터화 연산이 가능하다.  \n",
    "단, 연산 작업은 값에만 적용됨"
   ]
  },
  {
   "cell_type": "code",
   "execution_count": 5,
   "metadata": {},
   "outputs": [
    {
     "data": {
      "text/plain": [
       "홍길동    34.0\n",
       "김철수    28.0\n",
       "이영희    40.0\n",
       "최민수    36.0\n",
       "홍길동    22.0\n",
       "dtype: float64"
      ]
     },
     "execution_count": 5,
     "metadata": {},
     "output_type": "execute_result"
    }
   ],
   "source": [
    "scores * 0.4"
   ]
  },
  {
   "cell_type": "code",
   "execution_count": 6,
   "metadata": {},
   "outputs": [
    {
     "data": {
      "text/plain": [
       "홍길동     True\n",
       "김철수     True\n",
       "이영희     True\n",
       "최민수     True\n",
       "홍길동    False\n",
       "dtype: bool"
      ]
     },
     "execution_count": 6,
     "metadata": {},
     "output_type": "execute_result"
    }
   ],
   "source": [
    "scores >= 60"
   ]
  },
  {
   "cell_type": "code",
   "execution_count": 7,
   "metadata": {},
   "outputs": [
    {
     "data": {
      "text/plain": [
       "홍길동     60\n",
       "김철수    100\n",
       "이영희     90\n",
       "최민수     70\n",
       "박지성     95\n",
       "dtype: int64"
      ]
     },
     "execution_count": 7,
     "metadata": {},
     "output_type": "execute_result"
    }
   ],
   "source": [
    "scores2 = pd.Series([60, 100, 90, 70, 95], index= ['홍길동', '김철수', '이영희', '최민수', '박지성'])\n",
    "scores2"
   ]
  },
  {
   "cell_type": "code",
   "execution_count": 8,
   "metadata": {},
   "outputs": [
    {
     "data": {
      "text/plain": [
       "김철수    170.0\n",
       "박지성      NaN\n",
       "이영희    190.0\n",
       "최민수    160.0\n",
       "홍길동    145.0\n",
       "홍길동    115.0\n",
       "dtype: float64"
      ]
     },
     "execution_count": 8,
     "metadata": {},
     "output_type": "execute_result"
    }
   ],
   "source": [
    "scores + scores2"
   ]
  },
  {
   "cell_type": "markdown",
   "metadata": {},
   "source": [
    "#### 시리즈 인덱싱\n",
    "시리즈도 리스트나 배열과 같이 인덱스 번호로 접근이 가능  \n",
    "단, 시리즈는 index 값으로도 접근이 가능하다.  \n",
    "배열 인덱싱이나 슬라이싱 모두 가능하다."
   ]
  },
  {
   "cell_type": "code",
   "execution_count": null,
   "metadata": {},
   "outputs": [],
   "source": [
    "scores[1], scores['김철수']"
   ]
  },
  {
   "cell_type": "code",
   "execution_count": null,
   "metadata": {},
   "outputs": [],
   "source": []
  }
 ],
 "metadata": {
  "kernelspec": {
   "display_name": "Python 3",
   "language": "python",
   "name": "python3"
  },
  "language_info": {
   "codemirror_mode": {
    "name": "ipython",
    "version": 3
   },
   "file_extension": ".py",
   "mimetype": "text/x-python",
   "name": "python",
   "nbconvert_exporter": "python",
   "pygments_lexer": "ipython3",
   "version": "3.12.2"
  }
 },
 "nbformat": 4,
 "nbformat_minor": 2
}
